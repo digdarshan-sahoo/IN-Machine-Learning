{
 "cells": [
  {
   "cell_type": "markdown",
   "metadata": {},
   "source": [
    "# Numpy Assignment"
   ]
  },
  {
   "cell_type": "markdown",
   "metadata": {},
   "source": [
    "### Problem 1"
   ]
  },
  {
   "cell_type": "markdown",
   "metadata": {},
   "source": [
    "Write a function so that the columns of the output matrix are powers of the input vector. The order of the powers is determined by the increasing boolean argument. Specifically, when increasing is False, the i-th output column is the input vector raised element-wise to the power of N -i -1."
   ]
  },
  {
   "cell_type": "code",
   "execution_count": 12,
   "metadata": {},
   "outputs": [
    {
     "name": "stdout",
     "output_type": "stream",
     "text": [
      "\n",
      "Object initialised successfully...\n",
      "\n",
      "Enter number of columns you want to generate in Vandermonde matrix (3 to 5): 5\n",
      "Enter order of matrix. (1-for Increasing or 2-for decreasing: 1\n",
      "\n",
      " [[  1   1   1   1   1]\n",
      " [  1   2   4   8  16]\n",
      " [  1   3   9  27  81]\n",
      " [  1   4  16  64 256]\n",
      " [  1   5  25 125 625]]\n",
      "Enter number of columns you want to generate in Vandermonde matrix (3 to 5): 5\n",
      "Enter order of matrix. (1-for Increasing or 2-for decreasing: 2\n",
      "\n",
      " [[  1   1   1   1   1]\n",
      " [ 16   8   4   2   1]\n",
      " [ 81  27   9   3   1]\n",
      " [256  64  16   4   1]\n",
      " [625 125  25   5   1]]\n",
      "Enter number of columns you want to generate in Vandermonde matrix (3 to 5): 3\n",
      "Enter order of matrix. (1-for Increasing or 2-for decreasing: 1\n",
      "\n",
      " [[ 1  1  1]\n",
      " [ 1  2  4]\n",
      " [ 1  3  9]\n",
      " [ 1  4 16]\n",
      " [ 1  5 25]]\n",
      "Enter number of columns you want to generate in Vandermonde matrix (3 to 5): 3\n",
      "Enter order of matrix. (1-for Increasing or 2-for decreasing: 2\n",
      "\n",
      " [[ 1  1  1]\n",
      " [ 4  2  1]\n",
      " [ 9  3  1]\n",
      " [16  4  1]\n",
      " [25  5  1]]\n",
      "\n",
      "Object deleted successfully...\n"
     ]
    }
   ],
   "source": [
    "import numpy as np\n",
    "\n",
    "from abc import ABCMeta, abstractmethod\n",
    "\n",
    "class AbstactBaseVanderMatrix(metaclass=ABCMeta):\n",
    "    def __init__(self): pass\n",
    "    @abstractmethod\n",
    "    def generate_vander_matrix(self): pass\n",
    "    \n",
    "class VanderMatrix(AbstactBaseVanderMatrix):\n",
    "    def __init__(self, p_vector):\n",
    "        self._vector = p_vector\n",
    "        \n",
    "    def generate_vander_matrix(self):\n",
    "        col = int(input(\"Enter number of columns you want to generate in Vandermonde matrix (3 to 5): \"))\n",
    "        if col<3 or col>5:\n",
    "            raise ValueError(\"'Wrong Entry. Enter between 3 to 5.'\")\n",
    "        order = int(input(\"Enter order of matrix. (1-for Increasing or 2-for decreasing: \"))\n",
    "        if order !=1 and order!=2:\n",
    "            raise ValueError(\"'Wrong Entry. Enter between 1 or 2.'\")\n",
    "        elif order ==1:\n",
    "            vander_matrix = np.vander(self._vector,col,increasing=True)\n",
    "        else:\n",
    "            vander_matrix = np.vander(self._vector,col,increasing=False)\n",
    "        # Now print the matrix\n",
    "        print(\"\\n\",vander_matrix) \n",
    "\n",
    "\n",
    "# Create a local vector and pass it to the object.\n",
    "l_vector = np.array([1,2,3,4,5])\n",
    "\n",
    "try:\n",
    "    VanderMatrixObj = VanderMatrix(l_vector)\n",
    "        \n",
    "except Exception as e:\n",
    "    print(\"{0}:Exception: Object initialisation error: {1}\".format(type(e),e))\n",
    "else:\n",
    "    print(\"\\nObject initialised successfully...\\n\")\n",
    "    try:\n",
    "        # Generate and print Vander Matrix\n",
    "        VanderMatrixObj.generate_vander_matrix()\n",
    "        VanderMatrixObj.generate_vander_matrix()\n",
    "        VanderMatrixObj.generate_vander_matrix()\n",
    "        VanderMatrixObj.generate_vander_matrix()\n",
    "                \n",
    "    except Exception as e:\n",
    "        print(\"{0}:Exception: Generating Vandermon Matrix: {1}\".format(type(e),e))\n",
    "finally:\n",
    "    del VanderMatrixObj\n",
    "    print(\"\\nObject deleted successfully...\") "
   ]
  },
  {
   "cell_type": "markdown",
   "metadata": {},
   "source": [
    "# Problem 2"
   ]
  },
  {
   "cell_type": "markdown",
   "metadata": {},
   "source": [
    "Question:Write a function to find moving average in an array over a window:\n",
    "\n",
    "Test it over [3, 5, 7, 2, 8, 10, 11, 65, 72, 81, 99, 100, 150] and window of 3\n"
   ]
  },
  {
   "cell_type": "code",
   "execution_count": 15,
   "metadata": {},
   "outputs": [
    {
     "name": "stdout",
     "output_type": "stream",
     "text": [
      "\n",
      "Object initialised successfully...\n",
      "\n",
      "Moving average list with 11 elements :\n",
      "\n",
      "[  5.           4.66666667   5.66666667   6.66666667   9.66666667\n",
      "  28.66666667  49.33333333  72.66666667  84.          93.33333333\n",
      " 116.33333333]\n",
      "\n",
      "Object deleted successfully...\n"
     ]
    }
   ],
   "source": [
    "import numpy as np\n",
    "\n",
    "from abc import ABCMeta, abstractmethod\n",
    "\n",
    "class AbstactBaseMovingAverage(metaclass=ABCMeta):\n",
    "    def __init__(self): pass\n",
    "    @abstractmethod\n",
    "    def moving_average(self): pass\n",
    "    \n",
    "class MovingAverage(AbstactBaseMovingAverage):\n",
    "    def __init__(self, p_list, p_window):\n",
    "        self._list = p_list\n",
    "        self._window = p_window\n",
    "        \n",
    "    def moving_average(self):\n",
    "        self._mov_avg = np.cumsum(self._list, dtype=float)\n",
    "        self._mov_avg[self._window:] = self._mov_avg[self._window:] - self._mov_avg[:-self._window]\n",
    "        return self._mov_avg[self._window - 1:] / self._window\n",
    "\n",
    "# Create a local list and pass it to the object.\n",
    "l_list = [3, 5, 7, 2, 8, 10, 11, 65, 72, 81, 99, 100, 150]\n",
    "l_window = 3\n",
    "    \n",
    "try:\n",
    "    MovingAvgObj = MovingAverage(l_list, l_window)\n",
    "        \n",
    "except Exception as e:\n",
    "    print(\"{0}:Exception: Object initialisation error: {1}\".format(type(e),e))\n",
    "else:\n",
    "    print(\"\\nObject initialised successfully...\\n\")\n",
    "    try:\n",
    "        # Calculate Moving Average\n",
    "        mov_avg = MovingAvgObj.moving_average()\n",
    "        print(\"Moving average list with {} elements :\\n\\n{}\".format(len(mov_avg),mov_avg))\n",
    "                \n",
    "    except Exception as e:\n",
    "        print(\"{0}:Exception: Calculating moving average: {1}\".format(type(e),e))\n",
    "finally:\n",
    "    del MovingAvgObj\n",
    "    print(\"\\nObject deleted successfully...\") "
   ]
  }
 ],
 "metadata": {
  "kernelspec": {
   "display_name": "Python 3",
   "language": "python",
   "name": "python3"
  },
  "language_info": {
   "codemirror_mode": {
    "name": "ipython",
    "version": 3
   },
   "file_extension": ".py",
   "mimetype": "text/x-python",
   "name": "python",
   "nbconvert_exporter": "python",
   "pygments_lexer": "ipython3",
   "version": "3.7.1"
  }
 },
 "nbformat": 4,
 "nbformat_minor": 2
}
