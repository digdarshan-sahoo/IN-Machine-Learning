{
 "cells": [
  {
   "cell_type": "markdown",
   "metadata": {},
   "source": [
    "# Python Assignment2"
   ]
  },
  {
   "cell_type": "markdown",
   "metadata": {},
   "source": [
    "## Question 1"
   ]
  },
  {
   "attachments": {
    "image.png": {
     "image/png": "[encoded data removed]"
    }
   },
   "cell_type": "markdown",
   "metadata": {},
   "source": [
    "![image.png](attachment:image.png)"
   ]
  },
  {
   "cell_type": "raw",
   "metadata": {},
   "source": [
    "## Question 1:\n",
    "1. Create the below pattern using nested for loop in Python.\n",
    "*\n",
    "* *\n",
    "* * *\n",
    "* * * *\n",
    "* * * * *\n",
    "* * * *\n",
    "* * *\n",
    "* *\n",
    "*"
   ]
  },
  {
   "cell_type": "code",
   "execution_count": 1,
   "metadata": {},
   "outputs": [
    {
     "name": "stdout",
     "output_type": "stream",
     "text": [
      "Object initialised successfully...\n",
      "\n",
      "* \n",
      "* * \n",
      "* * * \n",
      "* * * * \n",
      "* * * * * \n",
      "* * * * \n",
      "* * * \n",
      "* * \n",
      "* \n",
      "\n",
      "Object deleted successfully...\n"
     ]
    }
   ],
   "source": [
    "#Working Code - Using ABC, Polymorphism, Exceptions\n",
    "\n",
    "from abc import ABCMeta, abstractmethod\n",
    "\n",
    "class AbstactPrintValuesBase(metaclass=ABCMeta):\n",
    "    def __init__(self): pass\n",
    "    @abstractmethod\n",
    "    def print_values(self): pass\n",
    "\n",
    "    \n",
    "class PrintShape(AbstactPrintValuesBase):\n",
    "    def __init__(self):\n",
    "        self._min_range = 0\n",
    "        self._max_range = 4\n",
    "        \n",
    "    def print_values(self):\n",
    "        for i in range(self._min_range,self._max_range,1):\n",
    "            for j in range(i+1):\n",
    "                print(\"*\", end=\" \")\n",
    "            print(end=\"\\n\")\n",
    "        for i in range(self._max_range,self._min_range-1,-1):\n",
    "            for j in range(i+1):\n",
    "                print(\"*\", end=\" \")\n",
    "            print(end=\"\\n\")\n",
    "\n",
    "try:\n",
    "    PrintShapeObj = PrintShape()\n",
    "except Exception as e:\n",
    "    print(\"Exception: Object initialisation error\",e)\n",
    "else:\n",
    "    print(\"Object initialised successfully...\\n\")\n",
    "    try:\n",
    "        PrintShapeObj.print_values()\n",
    "    except Exception as e:\n",
    "        print(\"Exception: Shape prinitng error:\",e)\n",
    "finally:\n",
    "    del PrintShapeObj\n",
    "    print(\"\\nObject deleted successfully...\")      \n",
    "\n"
   ]
  },
  {
   "cell_type": "markdown",
   "metadata": {},
   "source": [
    "## Question2"
   ]
  },
  {
   "attachments": {
    "image.png": {
     "image/png": "[encoded data removed]"
    }
   },
   "cell_type": "markdown",
   "metadata": {},
   "source": [
    "![image.png](attachment:image.png)"
   ]
  },
  {
   "cell_type": "raw",
   "metadata": {},
   "source": [
    "Question 2:\n",
    "    Write a Python program to reverse a word after accepring the input from the user.\n",
    "    Sample Output:\n",
    "        Input word: ineuron\n",
    "        Output word: norueni"
   ]
  },
  {
   "cell_type": "code",
   "execution_count": null,
   "metadata": {},
   "outputs": [],
   "source": [
    "#Working Code - Using ABC, Polymorphism, Exceptions\n",
    "\n",
    "from abc import ABCMeta, abstractmethod\n",
    "class AbstactWordBase(metaclass=ABCMeta):\n",
    "    def __init__(self): pass\n",
    "    @abstractmethod\n",
    "    def check_valid_word(self): pass\n",
    "    @abstractmethod\n",
    "    def reverse_word(self): pass\n",
    "    @abstractmethod\n",
    "    def print_word(self): pass\n",
    "    \n",
    "class ReverseWord(AbstactWordBase):\n",
    "   \n",
    "    def __init__(self):\n",
    "        self.get_word()\n",
    "        #print(\"self._word:\",self._word)\n",
    "        self._valid_word = self.check_valid_word()\n",
    "        #print(\"self._word:\", self._word)\n",
    "    \n",
    "    def get_word(self):\n",
    "        self._word = input(\"Enter a word: \")\n",
    "    \n",
    "    def check_valid_word(self):\n",
    "        if self._word.isalpha() == False:\n",
    "            print(\"Invalid Word... \")\n",
    "            print(\"The word{%s} must contain only alphabets.\" \\\n",
    "                  % (self._word))\n",
    "            return False\n",
    "        else:\n",
    "            return True\n",
    "    \n",
    "    def reverse_word(self):\n",
    "        if self._valid_word == False:\n",
    "            raise ValueError(\"Ensure that the word contains only alphabets.\")\n",
    "        if self._valid_word == True:\n",
    "            self._word_reversed = self._word[::-1]\n",
    "        print(\"Word reversed successfully...\")\n",
    "    def print_word(self):\n",
    "        print(\"\\n Entered Word: {} \\n\".format(self._word))    \n",
    "        print(\"Revered Word: {} \\n\".format(self._word_reversed))    \n",
    "        \n",
    "\n",
    "try:\n",
    "    RevWordObj = ReverseWord()\n",
    "except AttributeError as ae:\n",
    "    print(\"AttributeError: Incorrect attribute is in use:\",ae)\n",
    "except TypeError as te:\n",
    "    print(\"TypeError: Datatype of Word is not string or wrong formatting option passed:\",te)\n",
    "except ValueError as ve:\n",
    "    print(\"ValueError: The word is not alphabetic:\",ve)\n",
    "except Exception as e:\n",
    "    print(\"Exception: During object creation:\",e)\n",
    "\n",
    "else:\n",
    "    print(\"Object initilised succefully...\")\n",
    "    try:\n",
    "        RevWordObj.reverse_word()\n",
    "    except ValueError as ve:\n",
    "        print(\"ValueError: Error while reversing:\", ve)\n",
    "    except AttributeError as ae:\n",
    "        print(\"AttributeError: Error while reversing:\", ae)\n",
    "    except Exception as e:\n",
    "        print(\"Exception: Unable to reverse word: \",e)\n",
    "    else:\n",
    "        RevWordObj.print_word()\n",
    "\n",
    "finally:\n",
    "    print(RevWordObj.__dict__)\n",
    "    del RevWordObj\n",
    "    print(\"\\n Object deleted successfully...\")\n"
   ]
  }
 ],
 "metadata": {
  "kernelspec": {
   "display_name": "Python 3",
   "language": "python",
   "name": "python3"
  },
  "language_info": {
   "codemirror_mode": {
    "name": "ipython",
    "version": 3
   },
   "file_extension": ".py",
   "mimetype": "text/x-python",
   "name": "python",
   "nbconvert_exporter": "python",
   "pygments_lexer": "ipython3",
   "version": "3.7.1"
  }
 },
 "nbformat": 4,
 "nbformat_minor": 2
}
